{
  "nbformat": 4,
  "nbformat_minor": 0,
  "metadata": {
    "colab": {
      "provenance": [],
      "authorship_tag": "ABX9TyMnxlc5UqmLB1Qgbr98Aje8",
      "include_colab_link": true
    },
    "kernelspec": {
      "name": "python3",
      "display_name": "Python 3"
    },
    "language_info": {
      "name": "python"
    }
  },
  "cells": [
    {
      "cell_type": "markdown",
      "metadata": {
        "id": "view-in-github",
        "colab_type": "text"
      },
      "source": [
        "<a href=\"https://colab.research.google.com/github/imrohitkr/urbandelights/blob/main/Backend/Classification.ipynb\" target=\"_parent\"><img src=\"https://colab.research.google.com/assets/colab-badge.svg\" alt=\"Open In Colab\"/></a>"
      ]
    },
    {
      "cell_type": "code",
      "source": [
        "def clean_reviews(no_reviews,language, words_to_be_excluded, words_to_be_included, dataset):\n",
        "    import re\n",
        "    import nltk\n",
        "    # nltk.download('stopwords') #Must only be downloaded once\n",
        "    from nltk.corpus import stopwords #Includes a list of words that souldn't appear in the reivews\n",
        "\n",
        "    #Create own list of stopwords\n",
        "    my_stopwords = stopwords.words(language)\n",
        "    #Append the words from to_be_excluded_words to my_stopwords\n",
        "    for word in words_to_be_excluded:\n",
        "        if not any ( word in stpwords for stpwords in my_stopwords):\n",
        "            my_stopwords.append(word)\n",
        "\n",
        "    #Remove words from my_stopwords that are present in to_be_included\n",
        "    for word in words_to_be_included:\n",
        "        if any (word in stpwords for stpwords in my_stopwords):\n",
        "            my_stopwords.remove(word)\n",
        "\n",
        "    #Stemming is the process of extracting the stem of each word e.g. \"loved\"->\"love\"\n",
        "    from nltk.stem.porter import PorterStemmer\n",
        "\n",
        "    corpus =[] #Will contain the clean reviews\"\n",
        "    for i in range (0, no_reviews):\n",
        "        review = re.sub('[^a-zA-Z]',' ', dataset['Review'][i]) #Removes all other characters besides the letters and puts the review in a string\n",
        "        review = review.lower() #Transforms all UPPER-CASE characters to lower-case\n",
        "        review = review.split() #Separates all the words from the review string and puts them in a list\n",
        "        ps = PorterStemmer()\n",
        "        review = [ps.stem(word) for word in review if not word in set (my_stopwords)] #Remove irrelevant words from rewiews and stems all words\n",
        "        review = ' '.join(review)\n",
        "        corpus.append(review) #Append review string to corpus\n",
        "    return corpus"
      ],
      "metadata": {
        "id": "lJuycSE527-g"
      },
      "execution_count": 47,
      "outputs": []
    },
    {
      "cell_type": "code",
      "source": [
        "def bag_of_words(dataset, corpus, maximum_features):\n",
        "    from sklearn.feature_extraction.text import CountVectorizer\n",
        "    cv = CountVectorizer(max_features = maximum_features) #Object for creating the sparse matrix\n",
        "    X = cv.fit_transform(corpus).toarray() #Sparse matrix\n",
        "    y = dataset.iloc[:,1].values #Array with the dependent variable for each review (Liked = 1, Disliked = 0)\n",
        "    return X,y"
      ],
      "metadata": {
        "id": "48E2Bd953KsX"
      },
      "execution_count": 48,
      "outputs": []
    },
    {
      "cell_type": "code",
      "source": [
        "def score_acc(cm):\n",
        "    TN= cm[0][0] #True_Negative or results that were predicted to be negative and were negative\n",
        "    TP = cm[1][1]#True_Positive or results that were predicted to be positive and were positive\n",
        "\n",
        "    FN = cm[0][1] #False_Negative or results that were predicted to be negative but were positive\n",
        "    FP = cm [1][0]#False_Positive or results that were predicted to be positive but were negative\n",
        "    accuracy = (TP + TN)/(TP + TN + FP + FN) #Or correct_predictions/total_predictions\n",
        "    precision = TP / (TP + FP) #Or correct_positive_predictions/total_correct_predictions\n",
        "    recall = TP / (TP + FN)#Or correct_positive_predictions/(correct_positive_predictions + false_negative_predictions)\n",
        "    score = 2 * precision * recall/(precision + recall)\n",
        "    return accuracy,score\n"
      ],
      "metadata": {
        "id": "sXZomr143NGZ"
      },
      "execution_count": 49,
      "outputs": []
    },
    {
      "cell_type": "code",
      "source": [
        "# Applying the Random Forest classification algorithm\n",
        "def random_forest(number_of_trees, X_train, y_train, X_test, y_test):\n",
        "    from sklearn.ensemble import RandomForestClassifier\n",
        "    from sklearn.metrics import confusion_matrix, precision_score, recall_score\n",
        "    import seaborn as sns\n",
        "    import matplotlib.pyplot as plt\n",
        "\n",
        "    # Train the Random Forest classifier\n",
        "    classifier = RandomForestClassifier(n_estimators=number_of_trees, criterion='entropy')\n",
        "    classifier.fit(X_train, y_train)\n",
        "\n",
        "    # Predict the test set results\n",
        "    y_pred = classifier.predict(X_test)\n",
        "\n",
        "    # Compute the confusion matrix\n",
        "    cm = confusion_matrix(y_test, y_pred)\n",
        "\n",
        "    # Compute accuracy and score from confusion matrix\n",
        "    accuracy, score = score_acc(cm)\n",
        "\n",
        "    # Compute precision and recall\n",
        "    precision = precision_score(y_test, y_pred)\n",
        "    recall = recall_score(y_test, y_pred)\n",
        "\n",
        "    # Print accuracy, score, precision, and recall\n",
        "    print(\"Accuracy of the Random Forest algorithm for\", number_of_trees, \"trees is\", accuracy)\n",
        "    print(\"Score:\", score)\n",
        "    print(\"Precision:\", precision)\n",
        "    print(\"Recall:\", recall)\n",
        "\n",
        "    # Plot confusion matrix\n",
        "    plt.figure(figsize=(8, 6))\n",
        "    sns.heatmap(cm, annot=True, fmt='g', cmap='Blues', linewidths=0.5, cbar=False)\n",
        "    plt.title('Confusion Matrix')\n",
        "    plt.xlabel('Predicted labels')\n",
        "    plt.ylabel('True labels')\n",
        "    plt.show()\n",
        "\n",
        "    return classifier, accuracy, score, precision, recall\n",
        "\n"
      ],
      "metadata": {
        "id": "Fy6FwcLM3OZ1"
      },
      "execution_count": 50,
      "outputs": []
    },
    {
      "cell_type": "code",
      "source": [
        "def demo():\n",
        "    # Please update values of the following variables:\n",
        "    path = 'Restaurant_Reviews.tsv'\n",
        "    language = 'english'  # You can find the list of accepted languages in the README.md file\n",
        "    words_to_be_included = ['not', 'nor', 'no', 'nope', 'nah', 'absurt', 'yuk', 'bad']  # That should be part the reviews\n",
        "    words_to_be_excluded = ['opinion']  # That shouldn't be part of the reviews\n",
        "    no_reviews = 1000\n",
        "    maximum_features = 1500  # Maximum elements that the Bag of Words could contain\n",
        "    test_set_size = 0.2  # Percentage of the test set\n",
        "\n",
        "    # Importing the dataset\n",
        "    import pandas as pd\n",
        "    dataset = pd.read_csv(path, delimiter='\\t', quoting=3)\n",
        "    # delimiter = '\\t' indicates TAB as delimiter, opposed to the classical delimiter \",\"\n",
        "    # quoting = 3 ignores the \"\" present in the reviews\n",
        "\n",
        "    corpus = clean_reviews(no_reviews, language, words_to_be_excluded, words_to_be_included, dataset)\n",
        "\n",
        "    X, y = bag_of_words(dataset, corpus, maximum_features)\n",
        "\n",
        "    from sklearn.model_selection import train_test_split\n",
        "\n",
        "    X_train, X_test, y_train, y_test = train_test_split(X, y, test_size=test_set_size)\n",
        "\n",
        "    number_of_trees = 10000\n",
        "    classifier, vectorizer, _, _, _ = random_forest(number_of_trees, X_train, y_train, X_test, y_test)\n",
        "\n",
        "    # Save the trained model to disk\n",
        "    joblib.dump(classifier, 'random_forest_model.pkl')\n",
        "\n",
        "    # Save the vectorizer to disk\n",
        "    joblib.dump(vectorizer, 'tfidf_vectorizer.pkl')\n",
        "\n",
        "\n",
        "import nltk\n",
        "\n",
        "nltk.download('stopwords')\n",
        "demo()\n"
      ],
      "metadata": {
        "colab": {
          "base_uri": "https://localhost:8080/",
          "height": 668
        },
        "id": "kwVq7uH83RMl",
        "outputId": "cc599d81-b42c-44a0-81fd-89d24a0d51bf"
      },
      "execution_count": 51,
      "outputs": [
        {
          "output_type": "stream",
          "name": "stderr",
          "text": [
            "[nltk_data] Downloading package stopwords to /root/nltk_data...\n",
            "[nltk_data]   Package stopwords is already up-to-date!\n"
          ]
        },
        {
          "output_type": "stream",
          "name": "stdout",
          "text": [
            "Accuracy of the Random Forest algorithm for 10000 trees is 0.805\n",
            "Score: 0.7796610169491525\n",
            "Precision: 0.8023255813953488\n",
            "Recall: 0.7582417582417582\n"
          ]
        },
        {
          "output_type": "display_data",
          "data": {
            "text/plain": [
              "<Figure size 800x600 with 1 Axes>"
            ],
            "image/png": "[encoded data removed]"
          },
          "metadata": {}
        }
      ]
    }
  ]
}